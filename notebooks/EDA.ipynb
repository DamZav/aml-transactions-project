{
 "cells": [
  {
   "cell_type": "code",
   "execution_count": 2,
   "id": "997c9dfe",
   "metadata": {},
   "outputs": [
    {
     "data": {
      "text/plain": [
       "(9504852, 12)"
      ]
     },
     "metadata": {},
     "output_type": "display_data"
    },
    {
     "data": {
      "text/html": [
       "<div>\n",
       "<style scoped>\n",
       "    .dataframe tbody tr th:only-of-type {\n",
       "        vertical-align: middle;\n",
       "    }\n",
       "\n",
       "    .dataframe tbody tr th {\n",
       "        vertical-align: top;\n",
       "    }\n",
       "\n",
       "    .dataframe thead th {\n",
       "        text-align: right;\n",
       "    }\n",
       "</style>\n",
       "<table border=\"1\" class=\"dataframe\">\n",
       "  <thead>\n",
       "    <tr style=\"text-align: right;\">\n",
       "      <th></th>\n",
       "      <th>Time</th>\n",
       "      <th>Date</th>\n",
       "      <th>Sender_account</th>\n",
       "      <th>Receiver_account</th>\n",
       "      <th>Amount</th>\n",
       "      <th>Payment_currency</th>\n",
       "      <th>Received_currency</th>\n",
       "      <th>Sender_bank_location</th>\n",
       "      <th>Receiver_bank_location</th>\n",
       "      <th>Payment_type</th>\n",
       "      <th>Is_laundering</th>\n",
       "      <th>Laundering_type</th>\n",
       "    </tr>\n",
       "  </thead>\n",
       "  <tbody>\n",
       "    <tr>\n",
       "      <th>0</th>\n",
       "      <td>10:35:19</td>\n",
       "      <td>2022-10-07</td>\n",
       "      <td>8724731955</td>\n",
       "      <td>2769355426</td>\n",
       "      <td>1459.15</td>\n",
       "      <td>UK pounds</td>\n",
       "      <td>UK pounds</td>\n",
       "      <td>UK</td>\n",
       "      <td>UK</td>\n",
       "      <td>Cash Deposit</td>\n",
       "      <td>0</td>\n",
       "      <td>Normal_Cash_Deposits</td>\n",
       "    </tr>\n",
       "    <tr>\n",
       "      <th>1</th>\n",
       "      <td>10:35:20</td>\n",
       "      <td>2022-10-07</td>\n",
       "      <td>1491989064</td>\n",
       "      <td>8401255335</td>\n",
       "      <td>6019.64</td>\n",
       "      <td>UK pounds</td>\n",
       "      <td>Dirham</td>\n",
       "      <td>UK</td>\n",
       "      <td>UAE</td>\n",
       "      <td>Cross-border</td>\n",
       "      <td>0</td>\n",
       "      <td>Normal_Fan_Out</td>\n",
       "    </tr>\n",
       "    <tr>\n",
       "      <th>2</th>\n",
       "      <td>10:35:20</td>\n",
       "      <td>2022-10-07</td>\n",
       "      <td>287305149</td>\n",
       "      <td>4404767002</td>\n",
       "      <td>14328.44</td>\n",
       "      <td>UK pounds</td>\n",
       "      <td>UK pounds</td>\n",
       "      <td>UK</td>\n",
       "      <td>UK</td>\n",
       "      <td>Cheque</td>\n",
       "      <td>0</td>\n",
       "      <td>Normal_Small_Fan_Out</td>\n",
       "    </tr>\n",
       "    <tr>\n",
       "      <th>3</th>\n",
       "      <td>10:35:21</td>\n",
       "      <td>2022-10-07</td>\n",
       "      <td>5376652437</td>\n",
       "      <td>9600420220</td>\n",
       "      <td>11895.00</td>\n",
       "      <td>UK pounds</td>\n",
       "      <td>UK pounds</td>\n",
       "      <td>UK</td>\n",
       "      <td>UK</td>\n",
       "      <td>ACH</td>\n",
       "      <td>0</td>\n",
       "      <td>Normal_Fan_In</td>\n",
       "    </tr>\n",
       "    <tr>\n",
       "      <th>4</th>\n",
       "      <td>10:35:21</td>\n",
       "      <td>2022-10-07</td>\n",
       "      <td>9614186178</td>\n",
       "      <td>3803336972</td>\n",
       "      <td>115.25</td>\n",
       "      <td>UK pounds</td>\n",
       "      <td>UK pounds</td>\n",
       "      <td>UK</td>\n",
       "      <td>UK</td>\n",
       "      <td>Cash Deposit</td>\n",
       "      <td>0</td>\n",
       "      <td>Normal_Cash_Deposits</td>\n",
       "    </tr>\n",
       "  </tbody>\n",
       "</table>\n",
       "</div>"
      ],
      "text/plain": [
       "       Time        Date  Sender_account  Receiver_account    Amount  \\\n",
       "0  10:35:19  2022-10-07      8724731955        2769355426   1459.15   \n",
       "1  10:35:20  2022-10-07      1491989064        8401255335   6019.64   \n",
       "2  10:35:20  2022-10-07       287305149        4404767002  14328.44   \n",
       "3  10:35:21  2022-10-07      5376652437        9600420220  11895.00   \n",
       "4  10:35:21  2022-10-07      9614186178        3803336972    115.25   \n",
       "\n",
       "  Payment_currency Received_currency Sender_bank_location  \\\n",
       "0        UK pounds         UK pounds                   UK   \n",
       "1        UK pounds            Dirham                   UK   \n",
       "2        UK pounds         UK pounds                   UK   \n",
       "3        UK pounds         UK pounds                   UK   \n",
       "4        UK pounds         UK pounds                   UK   \n",
       "\n",
       "  Receiver_bank_location  Payment_type  Is_laundering       Laundering_type  \n",
       "0                     UK  Cash Deposit              0  Normal_Cash_Deposits  \n",
       "1                    UAE  Cross-border              0        Normal_Fan_Out  \n",
       "2                     UK        Cheque              0  Normal_Small_Fan_Out  \n",
       "3                     UK           ACH              0         Normal_Fan_In  \n",
       "4                     UK  Cash Deposit              0  Normal_Cash_Deposits  "
      ]
     },
     "execution_count": 2,
     "metadata": {},
     "output_type": "execute_result"
    }
   ],
   "source": [
    "# ================================\n",
    "# 1. Import libraries and load data\n",
    "# ================================\n",
    "import pandas as pd\n",
    "import matplotlib.pyplot as plt\n",
    "import seaborn as sns\n",
    "from IPython.display import display, Markdown\n",
    "\n",
    "df = pd.read_csv('../data/SAML-D.csv')\n",
    "\n",
    "# Quick view of the data\n",
    "display(df.shape)\n",
    "df.head()"
   ]
  },
  {
   "cell_type": "code",
   "execution_count": 10,
   "id": "ebaca1e7",
   "metadata": {},
   "outputs": [
    {
     "data": {
      "text/markdown": [
       "## Exploratory Data Analysis (EDA)"
      ],
      "text/plain": [
       "<IPython.core.display.Markdown object>"
      ]
     },
     "metadata": {},
     "output_type": "display_data"
    }
   ],
   "source": [
    "# Title\n",
    "display(Markdown(\"## Exploratory Data Analysis (EDA)\"))"
   ]
  },
  {
   "cell_type": "code",
   "execution_count": 7,
   "id": "40d820ed",
   "metadata": {},
   "outputs": [
    {
     "name": "stdout",
     "output_type": "stream",
     "text": [
      "<class 'pandas.core.frame.DataFrame'>\n",
      "RangeIndex: 9504852 entries, 0 to 9504851\n",
      "Data columns (total 12 columns):\n",
      " #   Column                  Dtype  \n",
      "---  ------                  -----  \n",
      " 0   Time                    object \n",
      " 1   Date                    object \n",
      " 2   Sender_account          int64  \n",
      " 3   Receiver_account        int64  \n",
      " 4   Amount                  float64\n",
      " 5   Payment_currency        object \n",
      " 6   Received_currency       object \n",
      " 7   Sender_bank_location    object \n",
      " 8   Receiver_bank_location  object \n",
      " 9   Payment_type            object \n",
      " 10  Is_laundering           int64  \n",
      " 11  Laundering_type         object \n",
      "dtypes: float64(1), int64(3), object(8)\n",
      "memory usage: 870.2+ MB\n"
     ]
    }
   ],
   "source": [
    "# ===============================\n",
    "# 2. Basic information\n",
    "# ===============================\n",
    "# Check structure, data types, and memory usage\n",
    "\n",
    "df.info()"
   ]
  },
  {
   "cell_type": "code",
   "execution_count": null,
   "id": "12e9cf5a",
   "metadata": {},
   "outputs": [
    {
     "data": {
      "text/html": [
       "<div>\n",
       "<style scoped>\n",
       "    .dataframe tbody tr th:only-of-type {\n",
       "        vertical-align: middle;\n",
       "    }\n",
       "\n",
       "    .dataframe tbody tr th {\n",
       "        vertical-align: top;\n",
       "    }\n",
       "\n",
       "    .dataframe thead th {\n",
       "        text-align: right;\n",
       "    }\n",
       "</style>\n",
       "<table border=\"1\" class=\"dataframe\">\n",
       "  <thead>\n",
       "    <tr style=\"text-align: right;\">\n",
       "      <th></th>\n",
       "      <th>Sender_account</th>\n",
       "      <th>Receiver_account</th>\n",
       "      <th>Amount</th>\n",
       "      <th>Is_laundering</th>\n",
       "    </tr>\n",
       "  </thead>\n",
       "  <tbody>\n",
       "    <tr>\n",
       "      <th>count</th>\n",
       "      <td>9.504852e+06</td>\n",
       "      <td>9.504852e+06</td>\n",
       "      <td>9.504852e+06</td>\n",
       "      <td>9.504852e+06</td>\n",
       "    </tr>\n",
       "    <tr>\n",
       "      <th>mean</th>\n",
       "      <td>5.006619e+09</td>\n",
       "      <td>5.006006e+09</td>\n",
       "      <td>8.762968e+03</td>\n",
       "      <td>1.038733e-03</td>\n",
       "    </tr>\n",
       "    <tr>\n",
       "      <th>std</th>\n",
       "      <td>2.885814e+09</td>\n",
       "      <td>2.884763e+09</td>\n",
       "      <td>2.561495e+04</td>\n",
       "      <td>3.221263e-02</td>\n",
       "    </tr>\n",
       "    <tr>\n",
       "      <th>min</th>\n",
       "      <td>9.018000e+03</td>\n",
       "      <td>9.018000e+03</td>\n",
       "      <td>3.730000e+00</td>\n",
       "      <td>0.000000e+00</td>\n",
       "    </tr>\n",
       "    <tr>\n",
       "      <th>25%</th>\n",
       "      <td>2.513133e+09</td>\n",
       "      <td>2.513219e+09</td>\n",
       "      <td>2.143688e+03</td>\n",
       "      <td>0.000000e+00</td>\n",
       "    </tr>\n",
       "    <tr>\n",
       "      <th>50%</th>\n",
       "      <td>5.001017e+09</td>\n",
       "      <td>5.002572e+09</td>\n",
       "      <td>6.113720e+03</td>\n",
       "      <td>0.000000e+00</td>\n",
       "    </tr>\n",
       "    <tr>\n",
       "      <th>75%</th>\n",
       "      <td>7.505051e+09</td>\n",
       "      <td>7.502397e+09</td>\n",
       "      <td>1.045846e+04</td>\n",
       "      <td>0.000000e+00</td>\n",
       "    </tr>\n",
       "    <tr>\n",
       "      <th>max</th>\n",
       "      <td>9.999987e+09</td>\n",
       "      <td>9.999971e+09</td>\n",
       "      <td>1.261850e+07</td>\n",
       "      <td>1.000000e+00</td>\n",
       "    </tr>\n",
       "  </tbody>\n",
       "</table>\n",
       "</div>"
      ],
      "text/plain": [
       "       Sender_account  Receiver_account        Amount  Is_laundering\n",
       "count    9.504852e+06      9.504852e+06  9.504852e+06   9.504852e+06\n",
       "mean     5.006619e+09      5.006006e+09  8.762968e+03   1.038733e-03\n",
       "std      2.885814e+09      2.884763e+09  2.561495e+04   3.221263e-02\n",
       "min      9.018000e+03      9.018000e+03  3.730000e+00   0.000000e+00\n",
       "25%      2.513133e+09      2.513219e+09  2.143688e+03   0.000000e+00\n",
       "50%      5.001017e+09      5.002572e+09  6.113720e+03   0.000000e+00\n",
       "75%      7.505051e+09      7.502397e+09  1.045846e+04   0.000000e+00\n",
       "max      9.999987e+09      9.999971e+09  1.261850e+07   1.000000e+00"
      ]
     },
     "execution_count": 8,
     "metadata": {},
     "output_type": "execute_result"
    }
   ],
   "source": [
    "# Descriptive statistics for numerical columns\n",
    "df.describe()"
   ]
  },
  {
   "cell_type": "code",
   "execution_count": null,
   "id": "1bc8c733",
   "metadata": {},
   "outputs": [
    {
     "data": {
      "text/plain": [
       "Time                      0\n",
       "Date                      0\n",
       "Sender_account            0\n",
       "Receiver_account          0\n",
       "Amount                    0\n",
       "Payment_currency          0\n",
       "Received_currency         0\n",
       "Sender_bank_location      0\n",
       "Receiver_bank_location    0\n",
       "Payment_type              0\n",
       "Is_laundering             0\n",
       "Laundering_type           0\n",
       "dtype: int64"
      ]
     },
     "execution_count": 9,
     "metadata": {},
     "output_type": "execute_result"
    }
   ],
   "source": [
    "# Check for missing values\n",
    "df.isna().sum()"
   ]
  },
  {
   "cell_type": "code",
   "execution_count": 11,
   "id": "4b25d8cd",
   "metadata": {},
   "outputs": [
    {
     "data": {
      "text/plain": [
       "np.int64(0)"
      ]
     },
     "execution_count": 11,
     "metadata": {},
     "output_type": "execute_result"
    }
   ],
   "source": [
    "# Check for duplicates\n",
    "df.duplicated().sum()"
   ]
  },
  {
   "cell_type": "code",
   "execution_count": null,
   "id": "2ede587c",
   "metadata": {},
   "outputs": [
    {
     "name": "stdout",
     "output_type": "stream",
     "text": [
      "Is_laundering\n",
      "0    9494979\n",
      "1       9873\n",
      "Name: count, dtype: int64\n"
     ]
    },
    {
     "data": {
      "image/png": "[encoded data removed]",
      "text/plain": [
       "<Figure size 640x480 with 1 Axes>"
      ]
     },
     "metadata": {},
     "output_type": "display_data"
    }
   ],
   "source": [
    "# ===============================\n",
    "# 3. Target Is_laundering variable analysis\n",
    "# ===============================\n",
    "\n",
    "# Distribution of the target 'Is_laundering'\n",
    "laundering_counts = df['Is_laundering'].value_counts()\n",
    "print(laundering_counts)\n",
    "#plt.figure(figsize=(6,4))\n",
    "plt.pie(laundering_counts, labels=laundering_counts.index, autopct='%1.1f%%', startangle=140)\n",
    "\n",
    "plt.title('Distribution of Is_laundering')\n",
    "plt.show()\n",
    "\n"
   ]
  },
  {
   "cell_type": "code",
   "execution_count": 26,
   "id": "3a97cbe7",
   "metadata": {},
   "outputs": [
    {
     "data": {
      "text/plain": [
       "Payment_type\n",
       "Credit card        2012909\n",
       "Debit card         2012103\n",
       "Cheque             2011419\n",
       "ACH                2008807\n",
       "Cross-border        933931\n",
       "Cash Withdrawal     300477\n",
       "Cash Deposit        225206\n",
       "Name: count, dtype: int64"
      ]
     },
     "metadata": {},
     "output_type": "display_data"
    }
   ],
   "source": [
    "# ===============================\n",
    "# 4. Univariate analysis\n",
    "# ===============================\n",
    "\n",
    "# Analysis of 'Payment_type' frequency\n",
    "# number of transactions per payment type\n",
    "transactions_per_payment_type = df['Payment_type'].value_counts()\n",
    "display(transactions_per_payment_type)\n"
   ]
  },
  {
   "cell_type": "code",
   "execution_count": null,
   "id": "9398c990",
   "metadata": {},
   "outputs": [
    {
     "data": {
      "image/png": "[encoded data removed]",
      "text/plain": [
       "<Figure size 4000x600 with 1 Axes>"
      ]
     },
     "metadata": {},
     "output_type": "display_data"
    }
   ],
   "source": [
    "# ===============================\n",
    "# 5. Bivariate analysis with target\n",
    "# ===============================\n",
    "\n",
    "# Analysis of 'Payment_type' vs 'Is_laundering'\n",
    "# number of laundering transactions per payment type\n",
    "laundering_transactions_per_payment_type = (\n",
    "    df[df['Is_laundering'] == 1]\n",
    "    .groupby('Payment_type')\n",
    "    .size()\n",
    "    .sort_values(ascending=False)\n",
    ")\n",
    "\n",
    "# Convert to dataFrame for better handling\n",
    "laundering_df = laundering_transactions_per_payment_type.reset_index()\n",
    "laundering_df.columns = ['Payment_type', 'Laundering_transactions'] # <-- Rename columns for the counts \n",
    "\n",
    "# Plot\n",
    "plt.figure(figsize=(40,6))\n",
    "sns.barplot(\n",
    "    data=laundering_df,\n",
    "    x='Payment_type',\n",
    "    y='Laundering_transactions',\n",
    "    hue='Payment_type',\n",
    "    legend=False,\n",
    "    palette='viridis', \n",
    "    order=laundering_df['Payment_type']\n",
    ")\n",
    "\n",
    "plt.title('Number of Laundering Transactions per Payment Type')\n",
    "plt.xlabel('Payment Type')\n",
    "plt.ylabel('Number of Laundering Transactions')\n",
    "plt.xticks(rotation=45)\n",
    "plt.show()"
   ]
  },
  {
   "cell_type": "code",
   "execution_count": 27,
   "id": "bf521f6e",
   "metadata": {},
   "outputs": [
    {
     "data": {
      "text/html": [
       "<div>\n",
       "<style scoped>\n",
       "    .dataframe tbody tr th:only-of-type {\n",
       "        vertical-align: middle;\n",
       "    }\n",
       "\n",
       "    .dataframe tbody tr th {\n",
       "        vertical-align: top;\n",
       "    }\n",
       "\n",
       "    .dataframe thead th {\n",
       "        text-align: right;\n",
       "    }\n",
       "</style>\n",
       "<table border=\"1\" class=\"dataframe\">\n",
       "  <thead>\n",
       "    <tr style=\"text-align: right;\">\n",
       "      <th></th>\n",
       "      <th>Total_Transactions</th>\n",
       "      <th>Laundering_Transactions</th>\n",
       "      <th>%_Laundering</th>\n",
       "    </tr>\n",
       "    <tr>\n",
       "      <th>Payment_type</th>\n",
       "      <th></th>\n",
       "      <th></th>\n",
       "      <th></th>\n",
       "    </tr>\n",
       "  </thead>\n",
       "  <tbody>\n",
       "    <tr>\n",
       "      <th>Cross-border</th>\n",
       "      <td>933931</td>\n",
       "      <td>2628</td>\n",
       "      <td>0.28</td>\n",
       "    </tr>\n",
       "    <tr>\n",
       "      <th>Cash Deposit</th>\n",
       "      <td>225206</td>\n",
       "      <td>1405</td>\n",
       "      <td>0.62</td>\n",
       "    </tr>\n",
       "    <tr>\n",
       "      <th>Cash Withdrawal</th>\n",
       "      <td>300477</td>\n",
       "      <td>1334</td>\n",
       "      <td>0.44</td>\n",
       "    </tr>\n",
       "    <tr>\n",
       "      <th>ACH</th>\n",
       "      <td>2008807</td>\n",
       "      <td>1159</td>\n",
       "      <td>0.06</td>\n",
       "    </tr>\n",
       "    <tr>\n",
       "      <th>Credit card</th>\n",
       "      <td>2012909</td>\n",
       "      <td>1136</td>\n",
       "      <td>0.06</td>\n",
       "    </tr>\n",
       "    <tr>\n",
       "      <th>Debit card</th>\n",
       "      <td>2012103</td>\n",
       "      <td>1124</td>\n",
       "      <td>0.06</td>\n",
       "    </tr>\n",
       "    <tr>\n",
       "      <th>Cheque</th>\n",
       "      <td>2011419</td>\n",
       "      <td>1087</td>\n",
       "      <td>0.05</td>\n",
       "    </tr>\n",
       "  </tbody>\n",
       "</table>\n",
       "</div>"
      ],
      "text/plain": [
       "                 Total_Transactions  Laundering_Transactions  %_Laundering\n",
       "Payment_type                                                              \n",
       "Cross-border                 933931                     2628          0.28\n",
       "Cash Deposit                 225206                     1405          0.62\n",
       "Cash Withdrawal              300477                     1334          0.44\n",
       "ACH                         2008807                     1159          0.06\n",
       "Credit card                 2012909                     1136          0.06\n",
       "Debit card                  2012103                     1124          0.06\n",
       "Cheque                      2011419                     1087          0.05"
      ]
     },
     "metadata": {},
     "output_type": "display_data"
    }
   ],
   "source": [
    "# Comparison table\n",
    "comparison = pd.DataFrame({\n",
    "    'Total_Transactions': transactions_per_payment_type,\n",
    "    'Laundering_Transactions': laundering_transactions_per_payment_type\n",
    "}).sort_values(by='Laundering_Transactions', ascending=False)    \n",
    "\n",
    "# Calculate percentage of laundering transactions\n",
    "comparison['%_Laundering'] = (\n",
    "    comparison['Laundering_Transactions'] / comparison['Total_Transactions'] * 100\n",
    ").round(2)\n",
    "\n",
    "display(comparison)"
   ]
  },
  {
   "cell_type": "code",
   "execution_count": 8,
   "id": "607f2d6b",
   "metadata": {},
   "outputs": [
    {
     "name": "stdout",
     "output_type": "stream",
     "text": [
      "Sender_bank_location\n",
      "UK             9183088\n",
      "Turkey           20902\n",
      "Switzerland      20503\n",
      "Pakistan         20346\n",
      "UAE              20081\n",
      "Nigeria          20027\n",
      "Spain            19391\n",
      "Germany          19259\n",
      "USA              19027\n",
      "Italy            18895\n",
      "France           18702\n",
      "Japan            18468\n",
      "Morocco          18437\n",
      "Austria          18050\n",
      "Mexico           17662\n",
      "Albania          17648\n",
      "India            17596\n",
      "Netherlands      16770\n",
      "Name: count, dtype: int64\n",
      "\n",
      "\n",
      "Receiver_bank_location\n",
      "UK             8864634\n",
      "Pakistan         38980\n",
      "Austria          38844\n",
      "Albania          38783\n",
      "Japan            38729\n",
      "Morocco          38704\n",
      "Germany          38540\n",
      "France           38512\n",
      "Mexico           38385\n",
      "Nigeria          38272\n",
      "Netherlands      37314\n",
      "Spain            37288\n",
      "India            36936\n",
      "USA              36850\n",
      "Italy            36517\n",
      "Switzerland      36081\n",
      "UAE              35897\n",
      "Turkey           35586\n",
      "Name: count, dtype: int64\n"
     ]
    }
   ],
   "source": [
    "sender_bank_location = df['Sender_bank_location'].value_counts()\n",
    "print(sender_bank_location)\n",
    "print(\"\\n\")\n",
    "receiver_bank_location = df['Receiver_bank_location'].value_counts()\n",
    "print(receiver_bank_location)"
   ]
  },
  {
   "cell_type": "code",
   "execution_count": 16,
   "id": "bc48e583",
   "metadata": {},
   "outputs": [
    {
     "name": "stdout",
     "output_type": "stream",
     "text": [
      "Sender_bank_location\n",
      "UK             18047722\n",
      "Pakistan          59326\n",
      "Nigeria           58299\n",
      "Germany           57799\n",
      "France            57214\n",
      "Japan             57197\n",
      "Morocco           57141\n",
      "Austria           56894\n",
      "Spain             56679\n",
      "Switzerland       56584\n",
      "Turkey            56488\n",
      "Albania           56431\n",
      "Mexico            56047\n",
      "UAE               55978\n",
      "USA               55877\n",
      "Italy             55412\n",
      "India             54532\n",
      "Netherlands       54084\n",
      "dtype: int64\n"
     ]
    }
   ],
   "source": [
    "countries_stats = df.groupby('Sender_bank_location').size() + df.groupby('Receiver_bank_location').size()\n",
    "countries = countries_stats.sort_values(ascending=False)\n",
    "print(countries)"
   ]
  },
  {
   "cell_type": "code",
   "execution_count": 11,
   "id": "06851cc6",
   "metadata": {},
   "outputs": [
    {
     "name": "stdout",
     "output_type": "stream",
     "text": [
      "<class 'pandas.core.frame.DataFrame'>\n",
      "RangeIndex: 9504852 entries, 0 to 9504851\n",
      "Data columns (total 12 columns):\n",
      " #   Column                  Dtype         \n",
      "---  ------                  -----         \n",
      " 0   Time                    object        \n",
      " 1   Date                    datetime64[ns]\n",
      " 2   Sender_account          int64         \n",
      " 3   Receiver_account        int64         \n",
      " 4   Amount                  float64       \n",
      " 5   Payment_currency        object        \n",
      " 6   Received_currency       object        \n",
      " 7   Sender_bank_location    object        \n",
      " 8   Receiver_bank_location  object        \n",
      " 9   Payment_type            object        \n",
      " 10  Is_laundering           int64         \n",
      " 11  Laundering_type         object        \n",
      "dtypes: datetime64[ns](1), float64(1), int64(3), object(7)\n",
      "memory usage: 870.2+ MB\n"
     ]
    }
   ],
   "source": [
    "df['Date'] = pd.to_datetime(df['Date'])\n",
    "df['Time'] = pd.to_datetime(df['Time'], format='%H:%M:%S').dt.time\n",
    "df.info()"
   ]
  }
 ],
 "metadata": {
  "kernelspec": {
   "display_name": "dataScience",
   "language": "python",
   "name": "python3"
  },
  "language_info": {
   "codemirror_mode": {
    "name": "ipython",
    "version": 3
   },
   "file_extension": ".py",
   "mimetype": "text/x-python",
   "name": "python",
   "nbconvert_exporter": "python",
   "pygments_lexer": "ipython3",
   "version": "3.12.3"
  }
 },
 "nbformat": 4,
 "nbformat_minor": 5
}
