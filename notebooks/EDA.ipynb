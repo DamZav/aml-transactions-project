{
 "cells": [
  {
   "cell_type": "code",
   "execution_count": null,
   "id": "997c9dfe",
   "metadata": {},
   "outputs": [],
   "source": [
    "import pandas as pd\n",
    "from IPython.display import display, Markdown"
   ]
  },
  {
   "cell_type": "code",
   "execution_count": 21,
   "id": "4f533afa",
   "metadata": {},
   "outputs": [
    {
     "name": "stdout",
     "output_type": "stream",
     "text": [
      "<class 'pandas.core.frame.DataFrame'>\n",
      "RangeIndex: 9504852 entries, 0 to 9504851\n",
      "Data columns (total 12 columns):\n",
      " #   Column                  Dtype  \n",
      "---  ------                  -----  \n",
      " 0   Time                    object \n",
      " 1   Date                    object \n",
      " 2   Sender_account          int64  \n",
      " 3   Receiver_account        int64  \n",
      " 4   Amount                  float64\n",
      " 5   Payment_currency        object \n",
      " 6   Received_currency       object \n",
      " 7   Sender_bank_location    object \n",
      " 8   Receiver_bank_location  object \n",
      " 9   Payment_type            object \n",
      " 10  Is_laundering           int64  \n",
      " 11  Laundering_type         object \n",
      "dtypes: float64(1), int64(3), object(8)\n",
      "memory usage: 870.2+ MB\n"
     ]
    }
   ],
   "source": [
    "df = pd.read_csv('../data/SAML-D.csv')\n",
    "df.info()"
   ]
  },
  {
   "cell_type": "code",
   "execution_count": 22,
   "id": "40d820ed",
   "metadata": {},
   "outputs": [
    {
     "data": {
      "text/markdown": [
       "## Exploratory Data Analysis (EDA)"
      ],
      "text/plain": [
       "<IPython.core.display.Markdown object>"
      ]
     },
     "metadata": {},
     "output_type": "display_data"
    }
   ],
   "source": [
    "display(Markdown(\"## Exploratory Data Analysis (EDA)\"))"
   ]
  },
  {
   "cell_type": "code",
   "execution_count": 7,
   "id": "89bce679",
   "metadata": {},
   "outputs": [
    {
     "data": {
      "text/html": [
       "<div>\n",
       "<style scoped>\n",
       "    .dataframe tbody tr th:only-of-type {\n",
       "        vertical-align: middle;\n",
       "    }\n",
       "\n",
       "    .dataframe tbody tr th {\n",
       "        vertical-align: top;\n",
       "    }\n",
       "\n",
       "    .dataframe thead th {\n",
       "        text-align: right;\n",
       "    }\n",
       "</style>\n",
       "<table border=\"1\" class=\"dataframe\">\n",
       "  <thead>\n",
       "    <tr style=\"text-align: right;\">\n",
       "      <th></th>\n",
       "      <th>Sender_account</th>\n",
       "      <th>Receiver_account</th>\n",
       "      <th>Amount</th>\n",
       "      <th>Is_laundering</th>\n",
       "    </tr>\n",
       "  </thead>\n",
       "  <tbody>\n",
       "    <tr>\n",
       "      <th>count</th>\n",
       "      <td>9.504852e+06</td>\n",
       "      <td>9.504852e+06</td>\n",
       "      <td>9.504852e+06</td>\n",
       "      <td>9.504852e+06</td>\n",
       "    </tr>\n",
       "    <tr>\n",
       "      <th>mean</th>\n",
       "      <td>5.006619e+09</td>\n",
       "      <td>5.006006e+09</td>\n",
       "      <td>8.762968e+03</td>\n",
       "      <td>1.038733e-03</td>\n",
       "    </tr>\n",
       "    <tr>\n",
       "      <th>std</th>\n",
       "      <td>2.885814e+09</td>\n",
       "      <td>2.884763e+09</td>\n",
       "      <td>2.561495e+04</td>\n",
       "      <td>3.221263e-02</td>\n",
       "    </tr>\n",
       "    <tr>\n",
       "      <th>min</th>\n",
       "      <td>9.018000e+03</td>\n",
       "      <td>9.018000e+03</td>\n",
       "      <td>3.730000e+00</td>\n",
       "      <td>0.000000e+00</td>\n",
       "    </tr>\n",
       "    <tr>\n",
       "      <th>25%</th>\n",
       "      <td>2.513133e+09</td>\n",
       "      <td>2.513219e+09</td>\n",
       "      <td>2.143688e+03</td>\n",
       "      <td>0.000000e+00</td>\n",
       "    </tr>\n",
       "    <tr>\n",
       "      <th>50%</th>\n",
       "      <td>5.001017e+09</td>\n",
       "      <td>5.002572e+09</td>\n",
       "      <td>6.113720e+03</td>\n",
       "      <td>0.000000e+00</td>\n",
       "    </tr>\n",
       "    <tr>\n",
       "      <th>75%</th>\n",
       "      <td>7.505051e+09</td>\n",
       "      <td>7.502397e+09</td>\n",
       "      <td>1.045846e+04</td>\n",
       "      <td>0.000000e+00</td>\n",
       "    </tr>\n",
       "    <tr>\n",
       "      <th>max</th>\n",
       "      <td>9.999987e+09</td>\n",
       "      <td>9.999971e+09</td>\n",
       "      <td>1.261850e+07</td>\n",
       "      <td>1.000000e+00</td>\n",
       "    </tr>\n",
       "  </tbody>\n",
       "</table>\n",
       "</div>"
      ],
      "text/plain": [
       "       Sender_account  Receiver_account        Amount  Is_laundering\n",
       "count    9.504852e+06      9.504852e+06  9.504852e+06   9.504852e+06\n",
       "mean     5.006619e+09      5.006006e+09  8.762968e+03   1.038733e-03\n",
       "std      2.885814e+09      2.884763e+09  2.561495e+04   3.221263e-02\n",
       "min      9.018000e+03      9.018000e+03  3.730000e+00   0.000000e+00\n",
       "25%      2.513133e+09      2.513219e+09  2.143688e+03   0.000000e+00\n",
       "50%      5.001017e+09      5.002572e+09  6.113720e+03   0.000000e+00\n",
       "75%      7.505051e+09      7.502397e+09  1.045846e+04   0.000000e+00\n",
       "max      9.999987e+09      9.999971e+09  1.261850e+07   1.000000e+00"
      ]
     },
     "execution_count": 7,
     "metadata": {},
     "output_type": "execute_result"
    }
   ],
   "source": [
    "df.describe()"
   ]
  },
  {
   "cell_type": "code",
   "execution_count": 12,
   "id": "06851cc6",
   "metadata": {},
   "outputs": [
    {
     "name": "stdout",
     "output_type": "stream",
     "text": [
      "<class 'pandas.core.frame.DataFrame'>\n",
      "RangeIndex: 9504852 entries, 0 to 9504851\n",
      "Data columns (total 12 columns):\n",
      " #   Column                  Dtype         \n",
      "---  ------                  -----         \n",
      " 0   Time                    object        \n",
      " 1   Date                    datetime64[ns]\n",
      " 2   Sender_account          int64         \n",
      " 3   Receiver_account        int64         \n",
      " 4   Amount                  float64       \n",
      " 5   Payment_currency        object        \n",
      " 6   Received_currency       object        \n",
      " 7   Sender_bank_location    object        \n",
      " 8   Receiver_bank_location  object        \n",
      " 9   Payment_type            object        \n",
      " 10  Is_laundering           int64         \n",
      " 11  Laundering_type         object        \n",
      "dtypes: datetime64[ns](1), float64(1), int64(3), object(7)\n",
      "memory usage: 870.2+ MB\n"
     ]
    }
   ],
   "source": [
    "df['Date'] = pd.to_datetime(df['Date'])\n",
    "df['Time'] = pd.to_datetime(df['Time'], format='%H:%M:%S').dt.time\n",
    "df.info()"
   ]
  },
  {
   "cell_type": "code",
   "execution_count": 6,
   "id": "bd6f3893",
   "metadata": {},
   "outputs": [
    {
     "data": {
      "text/html": [
       "<div>\n",
       "<style scoped>\n",
       "    .dataframe tbody tr th:only-of-type {\n",
       "        vertical-align: middle;\n",
       "    }\n",
       "\n",
       "    .dataframe tbody tr th {\n",
       "        vertical-align: top;\n",
       "    }\n",
       "\n",
       "    .dataframe thead th {\n",
       "        text-align: right;\n",
       "    }\n",
       "</style>\n",
       "<table border=\"1\" class=\"dataframe\">\n",
       "  <thead>\n",
       "    <tr style=\"text-align: right;\">\n",
       "      <th></th>\n",
       "      <th>Time</th>\n",
       "      <th>Date</th>\n",
       "      <th>Sender_account</th>\n",
       "      <th>Receiver_account</th>\n",
       "      <th>Amount</th>\n",
       "      <th>Payment_currency</th>\n",
       "      <th>Received_currency</th>\n",
       "      <th>Sender_bank_location</th>\n",
       "      <th>Receiver_bank_location</th>\n",
       "      <th>Payment_type</th>\n",
       "      <th>Is_laundering</th>\n",
       "      <th>Laundering_type</th>\n",
       "    </tr>\n",
       "  </thead>\n",
       "  <tbody>\n",
       "    <tr>\n",
       "      <th>0</th>\n",
       "      <td>10:35:19</td>\n",
       "      <td>2022-10-07</td>\n",
       "      <td>8724731955</td>\n",
       "      <td>2769355426</td>\n",
       "      <td>1459.15</td>\n",
       "      <td>UK pounds</td>\n",
       "      <td>UK pounds</td>\n",
       "      <td>UK</td>\n",
       "      <td>UK</td>\n",
       "      <td>Cash Deposit</td>\n",
       "      <td>0</td>\n",
       "      <td>Normal_Cash_Deposits</td>\n",
       "    </tr>\n",
       "    <tr>\n",
       "      <th>1</th>\n",
       "      <td>10:35:20</td>\n",
       "      <td>2022-10-07</td>\n",
       "      <td>1491989064</td>\n",
       "      <td>8401255335</td>\n",
       "      <td>6019.64</td>\n",
       "      <td>UK pounds</td>\n",
       "      <td>Dirham</td>\n",
       "      <td>UK</td>\n",
       "      <td>UAE</td>\n",
       "      <td>Cross-border</td>\n",
       "      <td>0</td>\n",
       "      <td>Normal_Fan_Out</td>\n",
       "    </tr>\n",
       "    <tr>\n",
       "      <th>2</th>\n",
       "      <td>10:35:20</td>\n",
       "      <td>2022-10-07</td>\n",
       "      <td>287305149</td>\n",
       "      <td>4404767002</td>\n",
       "      <td>14328.44</td>\n",
       "      <td>UK pounds</td>\n",
       "      <td>UK pounds</td>\n",
       "      <td>UK</td>\n",
       "      <td>UK</td>\n",
       "      <td>Cheque</td>\n",
       "      <td>0</td>\n",
       "      <td>Normal_Small_Fan_Out</td>\n",
       "    </tr>\n",
       "    <tr>\n",
       "      <th>3</th>\n",
       "      <td>10:35:21</td>\n",
       "      <td>2022-10-07</td>\n",
       "      <td>5376652437</td>\n",
       "      <td>9600420220</td>\n",
       "      <td>11895.00</td>\n",
       "      <td>UK pounds</td>\n",
       "      <td>UK pounds</td>\n",
       "      <td>UK</td>\n",
       "      <td>UK</td>\n",
       "      <td>ACH</td>\n",
       "      <td>0</td>\n",
       "      <td>Normal_Fan_In</td>\n",
       "    </tr>\n",
       "    <tr>\n",
       "      <th>4</th>\n",
       "      <td>10:35:21</td>\n",
       "      <td>2022-10-07</td>\n",
       "      <td>9614186178</td>\n",
       "      <td>3803336972</td>\n",
       "      <td>115.25</td>\n",
       "      <td>UK pounds</td>\n",
       "      <td>UK pounds</td>\n",
       "      <td>UK</td>\n",
       "      <td>UK</td>\n",
       "      <td>Cash Deposit</td>\n",
       "      <td>0</td>\n",
       "      <td>Normal_Cash_Deposits</td>\n",
       "    </tr>\n",
       "  </tbody>\n",
       "</table>\n",
       "</div>"
      ],
      "text/plain": [
       "       Time        Date  Sender_account  Receiver_account    Amount  \\\n",
       "0  10:35:19  2022-10-07      8724731955        2769355426   1459.15   \n",
       "1  10:35:20  2022-10-07      1491989064        8401255335   6019.64   \n",
       "2  10:35:20  2022-10-07       287305149        4404767002  14328.44   \n",
       "3  10:35:21  2022-10-07      5376652437        9600420220  11895.00   \n",
       "4  10:35:21  2022-10-07      9614186178        3803336972    115.25   \n",
       "\n",
       "  Payment_currency Received_currency Sender_bank_location  \\\n",
       "0        UK pounds         UK pounds                   UK   \n",
       "1        UK pounds            Dirham                   UK   \n",
       "2        UK pounds         UK pounds                   UK   \n",
       "3        UK pounds         UK pounds                   UK   \n",
       "4        UK pounds         UK pounds                   UK   \n",
       "\n",
       "  Receiver_bank_location  Payment_type  Is_laundering       Laundering_type  \n",
       "0                     UK  Cash Deposit              0  Normal_Cash_Deposits  \n",
       "1                    UAE  Cross-border              0        Normal_Fan_Out  \n",
       "2                     UK        Cheque              0  Normal_Small_Fan_Out  \n",
       "3                     UK           ACH              0         Normal_Fan_In  \n",
       "4                     UK  Cash Deposit              0  Normal_Cash_Deposits  "
      ]
     },
     "execution_count": 6,
     "metadata": {},
     "output_type": "execute_result"
    }
   ],
   "source": [
    "df.head()"
   ]
  },
  {
   "cell_type": "code",
   "execution_count": 23,
   "id": "96618db1",
   "metadata": {},
   "outputs": [
    {
     "name": "stdout",
     "output_type": "stream",
     "text": [
      "Time                      0\n",
      "Date                      0\n",
      "Sender_account            0\n",
      "Receiver_account          0\n",
      "Amount                    0\n",
      "Payment_currency          0\n",
      "Received_currency         0\n",
      "Sender_bank_location      0\n",
      "Receiver_bank_location    0\n",
      "Payment_type              0\n",
      "Is_laundering             0\n",
      "Laundering_type           0\n",
      "dtype: int64\n"
     ]
    }
   ],
   "source": [
    "missing_data = df.isna().sum()\n",
    "print(missing_data)"
   ]
  },
  {
   "cell_type": "code",
   "execution_count": 33,
   "id": "aaff840a",
   "metadata": {},
   "outputs": [
    {
     "data": {
      "text/markdown": [
       "# Number of transactions per payment type"
      ],
      "text/plain": [
       "<IPython.core.display.Markdown object>"
      ]
     },
     "metadata": {},
     "output_type": "display_data"
    },
    {
     "name": "stdout",
     "output_type": "stream",
     "text": [
      "\n",
      "\n"
     ]
    },
    {
     "data": {
      "text/markdown": [
       "# Number of laundering transactions per payment type"
      ],
      "text/plain": [
       "<IPython.core.display.Markdown object>"
      ]
     },
     "metadata": {},
     "output_type": "display_data"
    },
    {
     "data": {
      "text/plain": [
       "(Payment_type\n",
       " Credit card        2012909\n",
       " Debit card         2012103\n",
       " Cheque             2011419\n",
       " ACH                2008807\n",
       " Cross-border        933931\n",
       " Cash Withdrawal     300477\n",
       " Cash Deposit        225206\n",
       " Name: count, dtype: int64,\n",
       " Payment_type\n",
       " ACH                1159\n",
       " Cash Deposit       1405\n",
       " Cash Withdrawal    1334\n",
       " Cheque             1087\n",
       " Credit card        1136\n",
       " Cross-border       2628\n",
       " Debit card         1124\n",
       " dtype: int64)"
      ]
     },
     "execution_count": 33,
     "metadata": {},
     "output_type": "execute_result"
    }
   ],
   "source": [
    "# number of transactions per payment type\n",
    "display(Markdown(\"# Number of transactions per payment type\"))\n",
    "transactions_per_payment_type = df['Payment_type'].value_counts()\n",
    "print('\\n')\n",
    "\n",
    "# number of laundering transactions per payment type\n",
    "display(Markdown(\"# Number of laundering transactions per payment type\"))\n",
    "laundering_transactions_per_payment_type = df[df['Is_laundering'] == 1].groupby('Payment_type').size()\n",
    "transactions_per_payment_type, laundering_transactions_per_payment_type"
   ]
  },
  {
   "cell_type": "code",
   "execution_count": 16,
   "id": "607f2d6b",
   "metadata": {},
   "outputs": [
    {
     "name": "stdout",
     "output_type": "stream",
     "text": [
      "Sender_bank_location\n",
      "UK             9183088\n",
      "Turkey           20902\n",
      "Switzerland      20503\n",
      "Pakistan         20346\n",
      "UAE              20081\n",
      "Nigeria          20027\n",
      "Spain            19391\n",
      "Germany          19259\n",
      "USA              19027\n",
      "Italy            18895\n",
      "France           18702\n",
      "Japan            18468\n",
      "Morocco          18437\n",
      "Austria          18050\n",
      "Mexico           17662\n",
      "Albania          17648\n",
      "India            17596\n",
      "Netherlands      16770\n",
      "Name: count, dtype: int64\n",
      "\n",
      "\n",
      "Receiver_bank_location\n",
      "UK             8864634\n",
      "Pakistan         38980\n",
      "Austria          38844\n",
      "Albania          38783\n",
      "Japan            38729\n",
      "Morocco          38704\n",
      "Germany          38540\n",
      "France           38512\n",
      "Mexico           38385\n",
      "Nigeria          38272\n",
      "Netherlands      37314\n",
      "Spain            37288\n",
      "India            36936\n",
      "USA              36850\n",
      "Italy            36517\n",
      "Switzerland      36081\n",
      "UAE              35897\n",
      "Turkey           35586\n",
      "Name: count, dtype: int64\n"
     ]
    }
   ],
   "source": [
    "sender_bank_location = df['Sender_bank_location'].value_counts()\n",
    "print(sender_bank_location)\n",
    "print(\"\\n\")\n",
    "receiver_bank_location = df['Receiver_bank_location'].value_counts()\n",
    "print(receiver_bank_location)"
   ]
  },
  {
   "cell_type": "code",
   "execution_count": 18,
   "id": "bc48e583",
   "metadata": {},
   "outputs": [
    {
     "name": "stdout",
     "output_type": "stream",
     "text": [
      "Sender_bank_location\n",
      "UK             18047722\n",
      "Pakistan          59326\n",
      "Nigeria           58299\n",
      "Germany           57799\n",
      "France            57214\n",
      "Japan             57197\n",
      "Morocco           57141\n",
      "Austria           56894\n",
      "Spain             56679\n",
      "Switzerland       56584\n",
      "Turkey            56488\n",
      "Albania           56431\n",
      "Mexico            56047\n",
      "UAE               55978\n",
      "USA               55877\n",
      "Italy             55412\n",
      "India             54532\n",
      "Netherlands       54084\n",
      "dtype: int64\n"
     ]
    }
   ],
   "source": [
    "countries_stats = df.groupby('Sender_bank_location').size() + df.groupby('Receiver_bank_location').size()\n",
    "countries = countries_stats.sort_values(ascending=False)\n",
    "print(countries)"
   ]
  }
 ],
 "metadata": {
  "kernelspec": {
   "display_name": "dataScience",
   "language": "python",
   "name": "python3"
  },
  "language_info": {
   "codemirror_mode": {
    "name": "ipython",
    "version": 3
   },
   "file_extension": ".py",
   "mimetype": "text/x-python",
   "name": "python",
   "nbconvert_exporter": "python",
   "pygments_lexer": "ipython3",
   "version": "3.12.3"
  }
 },
 "nbformat": 4,
 "nbformat_minor": 5
}
